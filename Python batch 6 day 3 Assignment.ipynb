{
 "cells": [
  {
   "cell_type": "markdown",
   "metadata": {},
   "source": [
    "# sum of N number using while loop"
   ]
  },
  {
   "cell_type": "code",
   "execution_count": 1,
   "metadata": {},
   "outputs": [
    {
     "name": "stdout",
     "output_type": "stream",
     "text": [
      "enter the number \n",
      "16\n",
      "you have entered  16\n",
      "at step  1 sum is 1\n",
      "at step  2 sum is 3\n",
      "at step  3 sum is 6\n",
      "at step  4 sum is 10\n",
      "at step  5 sum is 15\n",
      "at step  6 sum is 21\n",
      "at step  7 sum is 28\n",
      "at step  8 sum is 36\n",
      "at step  9 sum is 45\n",
      "at step  10 sum is 55\n",
      "at step  11 sum is 66\n",
      "at step  12 sum is 78\n",
      "at step  13 sum is 91\n",
      "at step  14 sum is 105\n",
      "at step  15 sum is 120\n",
      "at step  16 sum is 136\n",
      "final sum of  16 is 136\n"
     ]
    }
   ],
   "source": [
    "sum = 0 \n",
    "value = 1\n",
    "print (\"enter the number \")\n",
    "num = int (input())\n",
    "\n",
    "print(\"you have entered \" ,  num )\n",
    "\n",
    "while value <= num :\n",
    "        sum = sum +value\n",
    "        value = value + 1\n",
    "        print(\"at step \" , value -1 , \"sum is\" , sum )\n",
    "    \n",
    "print(\"final sum of \" , num , \"is\" , sum)\n"
   ]
  },
  {
   "cell_type": "markdown",
   "metadata": {},
   "source": [
    "# Check whether number is prime or not"
   ]
  },
  {
   "cell_type": "code",
   "execution_count": 4,
   "metadata": {},
   "outputs": [
    {
     "name": "stdout",
     "output_type": "stream",
     "text": [
      "enter the number\n",
      "7\n",
      "The number 7 is a Prime no .\n"
     ]
    }
   ],
   "source": [
    "print(\"enter the number\")\n",
    "value =int(input(\"\"))\n",
    "\n",
    "\n",
    "if value > 1 :\n",
    "\n",
    "    for no in range(2, value) :\n",
    "        if (value % no) == 0 :\n",
    "            print(\"The number\" ,value, \"is not a Prime no .\")\n",
    "            break \n",
    "    else :\n",
    "        print(\"The number\" , value , \"is a Prime no .\" )\n",
    "        "
   ]
  },
  {
   "cell_type": "code",
   "execution_count": null,
   "metadata": {},
   "outputs": [],
   "source": []
  }
 ],
 "metadata": {
  "kernelspec": {
   "display_name": "Python 3",
   "language": "python",
   "name": "python3"
  },
  "language_info": {
   "codemirror_mode": {
    "name": "ipython",
    "version": 3
   },
   "file_extension": ".py",
   "mimetype": "text/x-python",
   "name": "python",
   "nbconvert_exporter": "python",
   "pygments_lexer": "ipython3",
   "version": "3.7.6"
  }
 },
 "nbformat": 4,
 "nbformat_minor": 4
}
